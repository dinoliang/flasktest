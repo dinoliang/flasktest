{
 "cells": [
  {
   "cell_type": "code",
   "execution_count": null,
   "metadata": {},
   "outputs": [],
   "source": [
    "import requests\n",
    "\n",
    "web = requests.get('http://10.18.0.103:5000/?hi=Hello')  # 使用 post 方法\n",
    "print(web.text)    # 讀取並印出 text 屬性\n",
    "\n",
    "data = {'name': 'oxxo', 'age': '18'}\n",
    "web = requests.post('http://10.18.0.103:5000/po', data=data)  # 使用 post 方法\n",
    "print(web.text)    # 讀取並印出 text 屬性\n",
    "\n",
    "web = requests.get('http://10.18.0.103:5000/po?hi=Hello')  # 使用 post 方法\n",
    "print(web.text)    # 讀取並印出 text 屬性"
   ]
  }
 ],
 "metadata": {
  "kernelspec": {
   "display_name": "base",
   "language": "python",
   "name": "python3"
  },
  "language_info": {
   "codemirror_mode": {
    "name": "ipython",
    "version": 3
   },
   "file_extension": ".py",
   "mimetype": "text/x-python",
   "name": "python",
   "nbconvert_exporter": "python",
   "pygments_lexer": "ipython3",
   "version": "3.9.12"
  },
  "orig_nbformat": 4,
  "vscode": {
   "interpreter": {
    "hash": "92741d12324eb674e26cfcd4c7472129578238c0131d917055dcf1987a5779ff"
   }
  }
 },
 "nbformat": 4,
 "nbformat_minor": 2
}
