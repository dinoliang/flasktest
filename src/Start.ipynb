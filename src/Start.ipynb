{
 "cells": [
  {
   "cell_type": "code",
   "execution_count": 1,
   "id": "2808d8e8",
   "metadata": {},
   "outputs": [
    {
     "data": {
      "text/plain": [
       "''"
      ]
     },
     "execution_count": 1,
     "metadata": {},
     "output_type": "execute_result"
    }
   ],
   "source": [
    "''''''''''''''''''''''''''''''''''''''''''''''''''''''''\n",
    "''''''''''''''''''''''''''''''''''''''''''''''''''''''''"
   ]
  },
  {
   "cell_type": "code",
   "execution_count": 2,
   "id": "5fd30538",
   "metadata": {},
   "outputs": [],
   "source": [
    "import time\n",
    "import main as main"
   ]
  },
  {
   "cell_type": "code",
   "execution_count": 3,
   "id": "dd0d4862",
   "metadata": {},
   "outputs": [],
   "source": [
    "#Parameter\n",
    "g_ConfigPath = 'I:\\\\Work\\\\Zettmage\\\\Program\\\\Git\\\\pyevaluation\\\\Evaluation\\\\InputParameter.ini'"
   ]
  },
  {
   "cell_type": "code",
   "execution_count": 4,
   "id": "585b331d",
   "metadata": {},
   "outputs": [
    {
     "name": "stdout",
     "output_type": "stream",
     "text": [
      " * Serving Flask app \"main\" (lazy loading)\n",
      " * Environment: production\n",
      "\u001b[31m   WARNING: This is a development server. Do not use it in a production deployment.\u001b[0m\n",
      "\u001b[2m   Use a production WSGI server instead.\u001b[0m\n",
      " * Debug mode: on\n"
     ]
    },
    {
     "name": "stderr",
     "output_type": "stream",
     "text": [
      " * Restarting with watchdog (windowsapi)\n"
     ]
    },
    {
     "ename": "SystemExit",
     "evalue": "1",
     "output_type": "error",
     "traceback": [
      "An exception has occurred, use %tb to see the full traceback.\n",
      "\u001b[1;31mSystemExit\u001b[0m\u001b[1;31m:\u001b[0m 1\n"
     ]
    },
    {
     "name": "stderr",
     "output_type": "stream",
     "text": [
      "i:\\Users\\HiSuper\\anaconda3\\lib\\site-packages\\IPython\\core\\interactiveshell.py:3377: UserWarning: To exit: use 'exit', 'quit', or Ctrl-D.\n",
      "  warn(\"To exit: use 'exit', 'quit', or Ctrl-D.\", stacklevel=1)\n"
     ]
    }
   ],
   "source": [
    "StartTime = time.time()\n",
    "\n",
    "if __name__ == '__main__':\n",
    "    myflask = main.FlaskMain()\n",
    "    myflask.StartFlask()\n",
    "    pass\n",
    "\n",
    "EndTime = time.time()\n",
    "print(\"Finish!! Durning Time(sec): \", EndTime - StartTime)"
   ]
  }
 ],
 "metadata": {
  "kernelspec": {
   "display_name": "Python 3.9.12 ('base')",
   "language": "python",
   "name": "python3"
  },
  "language_info": {
   "codemirror_mode": {
    "name": "ipython",
    "version": 3
   },
   "file_extension": ".py",
   "mimetype": "text/x-python",
   "name": "python",
   "nbconvert_exporter": "python",
   "pygments_lexer": "ipython3",
   "version": "3.9.12"
  },
  "vscode": {
   "interpreter": {
    "hash": "92741d12324eb674e26cfcd4c7472129578238c0131d917055dcf1987a5779ff"
   }
  }
 },
 "nbformat": 4,
 "nbformat_minor": 5
}
