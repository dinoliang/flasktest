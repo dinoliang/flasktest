{
 "cells": [
  {
   "cell_type": "code",
   "execution_count": null,
   "metadata": {},
   "outputs": [],
   "source": [
    "from flask import Flask, request   # 載入 Flask\n",
    "\n",
    "app = Flask(__name__)     # 建立 app 變數為 Flask 物件，__name__ 表示目前執行的程式"
   ]
  },
  {
   "cell_type": "code",
   "execution_count": null,
   "metadata": {},
   "outputs": [],
   "source": [
    "\n",
    "@app.route(\"/\")           # 使用函式裝飾器，建立一個路由 ( Routes )，可針對主網域 / 發出請求\n",
    "def home():               # 發出請求後會執行 home() 的函式\n",
    "    print('home:')\n",
    "    print(request.args)\n",
    "    return \"<h1>hello world</h1>\"   # 執行函式後會回傳特定的網頁內容\n",
    "\n",
    "\n",
    "@app.route(\"/po\", methods=['POST'])\n",
    "def po():\n",
    "    print('POST:')\n",
    "    print(request.form)\n",
    "    return \"<h1>Post hello world</h1>\"\n",
    "\n",
    "@app.route(\"/<path:msg>\")\n",
    "def firstLevel(msg):\n",
    "    print('firstLevel:')\n",
    "    print(request.args)\n",
    "    return f\"<h1>{msg}</h1>\""
   ]
  },
  {
   "cell_type": "code",
   "execution_count": 3,
   "metadata": {},
   "outputs": [],
   "source": [
    "app.run(host=\"0.0.0.0\", port=5000)                 # 執行"
   ]
  }
 ],
 "metadata": {
  "kernelspec": {
   "display_name": "base",
   "language": "python",
   "name": "python3"
  },
  "language_info": {
   "codemirror_mode": {
    "name": "ipython",
    "version": 3
   },
   "file_extension": ".py",
   "mimetype": "text/x-python",
   "name": "python",
   "nbconvert_exporter": "python",
   "pygments_lexer": "ipython3",
   "version": "3.9.12"
  },
  "orig_nbformat": 4,
  "vscode": {
   "interpreter": {
    "hash": "92741d12324eb674e26cfcd4c7472129578238c0131d917055dcf1987a5779ff"
   }
  }
 },
 "nbformat": 4,
 "nbformat_minor": 2
}
